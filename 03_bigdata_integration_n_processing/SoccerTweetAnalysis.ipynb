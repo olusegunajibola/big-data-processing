{
 "cells": [
  {
   "cell_type": "markdown",
   "metadata": {},
   "source": [
    "[PySpark](https://spark.apache.org/docs/3.3.2/api/python/getting_started/index.html)\n",
    "\n",
    "[https://spark.apache.org/docs/3.3.2/api/python/getting_started/index.html]\n",
    "\n",
    "https://spark.apache.org/examples.html"
   ]
  },
  {
   "cell_type": "markdown",
   "metadata": {},
   "source": [
    "# Exporting Data from MongoDB to a CSV File\n"
   ]
  },
  {
   "cell_type": "markdown",
   "metadata": {},
   "source": [
    "As a Sports Analyst, I am very interested in reporting on the countries with the most popularity in Twitter. So a good way to approach this problem would be to find which countries were mentioned the most in the tweets in our dataset and to analyze what words are being used the most in these tweets."
   ]
  },
  {
   "cell_type": "code",
   "execution_count": 1,
   "metadata": {},
   "outputs": [
    {
     "name": "stdout",
     "output_type": "stream",
     "text": [
      " country-list.csv\t\t     SoccerTweetAnalysis.ipynb\r\n",
      "'SoccerTweetAnalysis (copy).ipynb'\r\n"
     ]
    }
   ],
   "source": [
    "!ls"
   ]
  },
  {
   "cell_type": "code",
   "execution_count": 2,
   "metadata": {},
   "outputs": [
    {
     "name": "stdout",
     "output_type": "stream",
     "text": [
      "/home/hadoop/Downloads/big-data-3/final-project\r\n"
     ]
    }
   ],
   "source": [
    "!pwd"
   ]
  },
  {
   "cell_type": "code",
   "execution_count": 3,
   "metadata": {},
   "outputs": [],
   "source": [
    "import pandas as pd"
   ]
  },
  {
   "cell_type": "code",
   "execution_count": 4,
   "metadata": {
    "scrolled": false
   },
   "outputs": [
    {
     "data": {
      "text/html": [
       "<div>\n",
       "<style scoped>\n",
       "    .dataframe tbody tr th:only-of-type {\n",
       "        vertical-align: middle;\n",
       "    }\n",
       "\n",
       "    .dataframe tbody tr th {\n",
       "        vertical-align: top;\n",
       "    }\n",
       "\n",
       "    .dataframe thead th {\n",
       "        text-align: right;\n",
       "    }\n",
       "</style>\n",
       "<table border=\"1\" class=\"dataframe\">\n",
       "  <thead>\n",
       "    <tr style=\"text-align: right;\">\n",
       "      <th></th>\n",
       "      <th>0</th>\n",
       "      <th>1</th>\n",
       "      <th>2</th>\n",
       "      <th>3</th>\n",
       "      <th>4</th>\n",
       "      <th>5</th>\n",
       "      <th>6</th>\n",
       "      <th>7</th>\n",
       "      <th>8</th>\n",
       "      <th>9</th>\n",
       "      <th>10</th>\n",
       "      <th>11</th>\n",
       "      <th>12</th>\n",
       "      <th>13</th>\n",
       "      <th>14</th>\n",
       "    </tr>\n",
       "  </thead>\n",
       "  <tbody>\n",
       "    <tr>\n",
       "      <th>6491</th>\n",
       "      <td>{\"_id\":{\"$oid\":\"57967032c38159226b4c88cb\"}</td>\n",
       "      <td>user_name:\"TheDelgadoWay\"</td>\n",
       "      <td>retweet_count:0</td>\n",
       "      <td>tweet_followers_count:1570</td>\n",
       "      <td>source:\"&lt;a href=\\\"https://mobile.twitter.com\\\"...</td>\n",
       "      <td>coordinates:null</td>\n",
       "      <td>tweet_mentioned_count:1</td>\n",
       "      <td>tweet_ID:\"757667207870644224\"</td>\n",
       "      <td>tweet_text:\"RT @OldDaysFootball: Throwback to ...</td>\n",
       "      <td>user:{\"CreatedAt\":{\"$date\":\"2010-07-11T05:51:4...</td>\n",
       "      <td>FavouritesCount:561</td>\n",
       "      <td>FollowersCount:1570</td>\n",
       "      <td>FriendsCount:979</td>\n",
       "      <td>UserId:165309726</td>\n",
       "      <td>Location:\"|Bernabeu|Mars|Compton|Nigeria\"}}</td>\n",
       "    </tr>\n",
       "    <tr>\n",
       "      <th>829</th>\n",
       "      <td>{\"_id\":{\"$oid\":\"5796562ac381590a1c83c176\"}</td>\n",
       "      <td>user_name:\"GaryBooth1\"</td>\n",
       "      <td>retweet_count:0</td>\n",
       "      <td>tweet_followers_count:334</td>\n",
       "      <td>source:\"&lt;a href=\\\"http://twitter.com/download/...</td>\n",
       "      <td>coordinates:null</td>\n",
       "      <td>tweet_mentioned_count:1</td>\n",
       "      <td>tweet_ID:\"757639259067146245\"</td>\n",
       "      <td>tweet_text:\"RT @TSBible: Throwback to FIFA 94 ...</td>\n",
       "      <td>user:{\"CreatedAt\":{\"$date\":\"2011-08-30T17:23:1...</td>\n",
       "      <td>FavouritesCount:686</td>\n",
       "      <td>FollowersCount:334</td>\n",
       "      <td>FriendsCount:657</td>\n",
       "      <td>UserId:364978620</td>\n",
       "      <td>Location:\"Glasgow\"}}</td>\n",
       "    </tr>\n",
       "    <tr>\n",
       "      <th>3984</th>\n",
       "      <td>{\"_id\":{\"$oid\":\"579667f8c381591baabef3a3\"}</td>\n",
       "      <td>user_name:\"PlayoffFootball\"</td>\n",
       "      <td>retweet_count:0</td>\n",
       "      <td>tweet_followers_count:18190</td>\n",
       "      <td>source:\"&lt;a href=\\\"http://twitter.com/download/...</td>\n",
       "      <td>coordinates:null</td>\n",
       "      <td>tweet_mentioned_count:1</td>\n",
       "      <td>tweet_ID:\"757658377019424770\"</td>\n",
       "      <td>tweet_text:\"RT @ESPNU: In 40 days we'll all be...</td>\n",
       "      <td>user:{\"CreatedAt\":{\"$date\":\"2013-11-21T23:21:3...</td>\n",
       "      <td>FavouritesCount:8735</td>\n",
       "      <td>FollowersCount:18190</td>\n",
       "      <td>FriendsCount:18882</td>\n",
       "      <td>UserId:-2086991098</td>\n",
       "      <td>Location:\"#CFP\"}}</td>\n",
       "    </tr>\n",
       "  </tbody>\n",
       "</table>\n",
       "</div>"
      ],
      "text/plain": [
       "                                              0                            1   \\\n",
       "6491  {\"_id\":{\"$oid\":\"57967032c38159226b4c88cb\"}    user_name:\"TheDelgadoWay\"   \n",
       "829   {\"_id\":{\"$oid\":\"5796562ac381590a1c83c176\"}       user_name:\"GaryBooth1\"   \n",
       "3984  {\"_id\":{\"$oid\":\"579667f8c381591baabef3a3\"}  user_name:\"PlayoffFootball\"   \n",
       "\n",
       "                   2                            3   \\\n",
       "6491  retweet_count:0   tweet_followers_count:1570   \n",
       "829   retweet_count:0    tweet_followers_count:334   \n",
       "3984  retweet_count:0  tweet_followers_count:18190   \n",
       "\n",
       "                                                     4                 5   \\\n",
       "6491  source:\"<a href=\\\"https://mobile.twitter.com\\\"...  coordinates:null   \n",
       "829   source:\"<a href=\\\"http://twitter.com/download/...  coordinates:null   \n",
       "3984  source:\"<a href=\\\"http://twitter.com/download/...  coordinates:null   \n",
       "\n",
       "                           6                              7   \\\n",
       "6491  tweet_mentioned_count:1  tweet_ID:\"757667207870644224\"   \n",
       "829   tweet_mentioned_count:1  tweet_ID:\"757639259067146245\"   \n",
       "3984  tweet_mentioned_count:1  tweet_ID:\"757658377019424770\"   \n",
       "\n",
       "                                                     8   \\\n",
       "6491  tweet_text:\"RT @OldDaysFootball: Throwback to ...   \n",
       "829   tweet_text:\"RT @TSBible: Throwback to FIFA 94 ...   \n",
       "3984  tweet_text:\"RT @ESPNU: In 40 days we'll all be...   \n",
       "\n",
       "                                                     9                     10  \\\n",
       "6491  user:{\"CreatedAt\":{\"$date\":\"2010-07-11T05:51:4...   FavouritesCount:561   \n",
       "829   user:{\"CreatedAt\":{\"$date\":\"2011-08-30T17:23:1...   FavouritesCount:686   \n",
       "3984  user:{\"CreatedAt\":{\"$date\":\"2013-11-21T23:21:3...  FavouritesCount:8735   \n",
       "\n",
       "                        11                  12                  13  \\\n",
       "6491   FollowersCount:1570    FriendsCount:979    UserId:165309726   \n",
       "829     FollowersCount:334    FriendsCount:657    UserId:364978620   \n",
       "3984  FollowersCount:18190  FriendsCount:18882  UserId:-2086991098   \n",
       "\n",
       "                                               14  \n",
       "6491  Location:\"|Bernabeu|Mars|Compton|Nigeria\"}}  \n",
       "829                          Location:\"Glasgow\"}}  \n",
       "3984                            Location:\"#CFP\"}}  "
      ]
     },
     "execution_count": 4,
     "metadata": {},
     "output_type": "execute_result"
    }
   ],
   "source": [
    "footy_tweets = pd.read_csv('/home/hadoop/Downloads/big-data-3/mongodb/dump/football_tweets.csv', \n",
    "                           on_bad_lines='skip',\n",
    "                           header = None\n",
    "                          )\n",
    "footy_tweets.sample(3)"
   ]
  },
  {
   "cell_type": "code",
   "execution_count": 5,
   "metadata": {},
   "outputs": [
    {
     "name": "stdout",
     "output_type": "stream",
     "text": [
      "<class 'pandas.core.frame.DataFrame'>\n",
      "RangeIndex: 6944 entries, 0 to 6943\n",
      "Data columns (total 15 columns):\n",
      " #   Column  Non-Null Count  Dtype \n",
      "---  ------  --------------  ----- \n",
      " 0   0       6944 non-null   object\n",
      " 1   1       6944 non-null   object\n",
      " 2   2       6944 non-null   object\n",
      " 3   3       6944 non-null   object\n",
      " 4   4       6944 non-null   object\n",
      " 5   5       6944 non-null   object\n",
      " 6   6       6944 non-null   object\n",
      " 7   7       6944 non-null   object\n",
      " 8   8       6944 non-null   object\n",
      " 9   9       6944 non-null   object\n",
      " 10  10      6944 non-null   object\n",
      " 11  11      6944 non-null   object\n",
      " 12  12      6944 non-null   object\n",
      " 13  13      6944 non-null   object\n",
      " 14  14      6944 non-null   object\n",
      "dtypes: object(15)\n",
      "memory usage: 813.9+ KB\n"
     ]
    }
   ],
   "source": [
    "footy_tweets.info()"
   ]
  },
  {
   "cell_type": "code",
   "execution_count": 6,
   "metadata": {},
   "outputs": [
    {
     "data": {
      "text/html": [
       "<div>\n",
       "<style scoped>\n",
       "    .dataframe tbody tr th:only-of-type {\n",
       "        vertical-align: middle;\n",
       "    }\n",
       "\n",
       "    .dataframe tbody tr th {\n",
       "        vertical-align: top;\n",
       "    }\n",
       "\n",
       "    .dataframe thead th {\n",
       "        text-align: right;\n",
       "    }\n",
       "</style>\n",
       "<table border=\"1\" class=\"dataframe\">\n",
       "  <thead>\n",
       "    <tr style=\"text-align: right;\">\n",
       "      <th></th>\n",
       "      <th>Afghanistan</th>\n",
       "      <th>AFG</th>\n",
       "    </tr>\n",
       "  </thead>\n",
       "  <tbody>\n",
       "    <tr>\n",
       "      <th>13</th>\n",
       "      <td>Bahamas</td>\n",
       "      <td>BAH</td>\n",
       "    </tr>\n",
       "    <tr>\n",
       "      <th>152</th>\n",
       "      <td>Republic of Ireland</td>\n",
       "      <td>IRL</td>\n",
       "    </tr>\n",
       "    <tr>\n",
       "      <th>192</th>\n",
       "      <td>Tunisia</td>\n",
       "      <td>TUN</td>\n",
       "    </tr>\n",
       "  </tbody>\n",
       "</table>\n",
       "</div>"
      ],
      "text/plain": [
       "             Afghanistan   AFG\n",
       "13               Bahamas   BAH\n",
       "152  Republic of Ireland   IRL\n",
       "192              Tunisia   TUN"
      ]
     },
     "execution_count": 6,
     "metadata": {},
     "output_type": "execute_result"
    }
   ],
   "source": [
    "country_list = pd.read_csv('country-list.csv')\n",
    "country_list.sample(3)"
   ]
  },
  {
   "cell_type": "code",
   "execution_count": 8,
   "metadata": {},
   "outputs": [
    {
     "name": "stdout",
     "output_type": "stream",
     "text": [
      "23/04/06 00:02:41 WARN Utils: Your hostname, ubuntu resolves to a loopback address: 127.0.1.1; using 10.0.2.15 instead (on interface enp0s3)\n",
      "23/04/06 00:02:41 WARN Utils: Set SPARK_LOCAL_IP if you need to bind to another address\n"
     ]
    },
    {
     "name": "stderr",
     "output_type": "stream",
     "text": [
      "Setting default log level to \"WARN\".\n",
      "To adjust logging level use sc.setLogLevel(newLevel). For SparkR, use setLogLevel(newLevel).\n"
     ]
    },
    {
     "name": "stdout",
     "output_type": "stream",
     "text": [
      "23/04/06 00:02:45 WARN NativeCodeLoader: Unable to load native-hadoop library for your platform... using builtin-java classes where applicable\n"
     ]
    }
   ],
   "source": [
    "import pyspark\n",
    "sc = pyspark.SparkContext()"
   ]
  },
  {
   "cell_type": "code",
   "execution_count": 9,
   "metadata": {},
   "outputs": [
    {
     "name": "stderr",
     "output_type": "stream",
     "text": [
      "/home/hadoop/anaconda3/lib/python3.10/site-packages/pyspark/sql/context.py:112: FutureWarning: Deprecated in 3.0.0. Use SparkSession.builder.getOrCreate() instead.\n",
      "  warnings.warn(\n"
     ]
    }
   ],
   "source": [
    "# Import and create a new SQLContext \n",
    "from pyspark.sql import SQLContext\n",
    "sqlContext = SQLContext(sc)"
   ]
  },
  {
   "cell_type": "code",
   "execution_count": 112,
   "metadata": {},
   "outputs": [],
   "source": [
    "# Read the country CSV file into an RDD.\n",
    "country_lines = sc.textFile('file:///home/hadoop/Downloads/big-data-3/final-project/country-list.csv')"
   ]
  },
  {
   "cell_type": "code",
   "execution_count": 159,
   "metadata": {},
   "outputs": [
    {
     "data": {
      "text/plain": [
       "['Afghanistan, AFG',\n",
       " 'Albania, ALB',\n",
       " 'Algeria, ALG',\n",
       " 'American Samoa, ASA',\n",
       " 'Andorra, AND']"
      ]
     },
     "execution_count": 159,
     "metadata": {},
     "output_type": "execute_result"
    }
   ],
   "source": [
    "country_lines.take(5)"
   ]
  },
  {
   "cell_type": "code",
   "execution_count": 126,
   "metadata": {},
   "outputs": [],
   "source": [
    "# Convert each line into a pair of words\n",
    "country = country_lines.map(lambda line : tuple(line.split(\", \")))"
   ]
  },
  {
   "cell_type": "code",
   "execution_count": 127,
   "metadata": {
    "scrolled": true
   },
   "outputs": [
    {
     "name": "stderr",
     "output_type": "stream",
     "text": [
      "                                                                                \r"
     ]
    },
    {
     "data": {
      "text/plain": [
       "[('Afghanistan', 'AFG'),\n",
       " ('Albania', 'ALB'),\n",
       " ('Algeria', 'ALG'),\n",
       " ('American Samoa', 'ASA'),\n",
       " ('Andorra', 'AND')]"
      ]
     },
     "execution_count": 127,
     "metadata": {},
     "output_type": "execute_result"
    }
   ],
   "source": [
    "country.take(5)"
   ]
  },
  {
   "cell_type": "code",
   "execution_count": 132,
   "metadata": {},
   "outputs": [],
   "source": [
    "# Convert each pair of  country into a tuple\n",
    "country_tuples =  country_lines.map(lambda word : word.split(\", \"))"
   ]
  },
  {
   "cell_type": "code",
   "execution_count": 133,
   "metadata": {},
   "outputs": [
    {
     "data": {
      "text/plain": [
       "[['Afghanistan', 'AFG'],\n",
       " ['Albania', 'ALB'],\n",
       " ['Algeria', 'ALG'],\n",
       " ['American Samoa', 'ASA'],\n",
       " ['Andorra', 'AND']]"
      ]
     },
     "execution_count": 133,
     "metadata": {},
     "output_type": "execute_result"
    }
   ],
   "source": [
    "country_tuples.take(5)"
   ]
  },
  {
   "cell_type": "code",
   "execution_count": 138,
   "metadata": {},
   "outputs": [
    {
     "name": "stdout",
     "output_type": "stream",
     "text": [
      "root\n",
      " |-- country: string (nullable = true)\n",
      " |-- code: string (nullable = true)\n",
      "\n"
     ]
    },
    {
     "name": "stderr",
     "output_type": "stream",
     "text": [
      "\r",
      "[Stage 78:>                                                         (0 + 1) / 1]\r",
      "\r",
      "                                                                                \r"
     ]
    },
    {
     "data": {
      "text/plain": [
       "[Row(country='Afghanistan', code='AFG'),\n",
       " Row(country='Albania', code='ALB'),\n",
       " Row(country='Algeria', code='ALG')]"
      ]
     },
     "execution_count": 138,
     "metadata": {},
     "output_type": "execute_result"
    }
   ],
   "source": [
    "# Create the DataFrame, look at schema and contents\n",
    "countryDF = sqlContext.createDataFrame(country_tuples, [\"country\", \"code\"])\n",
    "# countryDF = sqlContext.createDataFrame(country, [\"country\", \"code\"])\n",
    "countryDF.printSchema()\n",
    "countryDF.take(3)"
   ]
  },
  {
   "cell_type": "code",
   "execution_count": 139,
   "metadata": {},
   "outputs": [
    {
     "name": "stdout",
     "output_type": "stream",
     "text": [
      "+-------------------+----+\n",
      "|            country|code|\n",
      "+-------------------+----+\n",
      "|        Afghanistan| AFG|\n",
      "|            Albania| ALB|\n",
      "|            Algeria| ALG|\n",
      "|     American Samoa| ASA|\n",
      "|            Andorra| AND|\n",
      "|             Angola| ANG|\n",
      "|           Anguilla| AIA|\n",
      "|Antigua and Barbuda| ATG|\n",
      "|          Argentina| ARG|\n",
      "|            Armenia| ARM|\n",
      "|              Aruba| ARU|\n",
      "|          Australia| AUS|\n",
      "|            Austria| AUT|\n",
      "|         Azerbaijan| AZE|\n",
      "|            Bahamas| BAH|\n",
      "|            Bahrain| BHR|\n",
      "|         Bangladesh| BAN|\n",
      "|           Barbados| BRB|\n",
      "|            Belarus| BLR|\n",
      "|            Belgium| BEL|\n",
      "+-------------------+----+\n",
      "only showing top 20 rows\n",
      "\n"
     ]
    },
    {
     "name": "stderr",
     "output_type": "stream",
     "text": [
      "\r",
      "[Stage 79:>                                                         (0 + 1) / 1]\r",
      "\r",
      "                                                                                \r"
     ]
    }
   ],
   "source": [
    "countryDF.show()"
   ]
  },
  {
   "cell_type": "code",
   "execution_count": 143,
   "metadata": {},
   "outputs": [],
   "source": [
    "# Read tweets CSV file into RDD of lines\n",
    "footy_tw = sc.textFile('/home/hadoop/Downloads/big-data-3/mongodb/dump/football_tweets.csv')\n",
    "tweets_lines = sc.textFile('/home/hadoop/Downloads/big-data-3/mongodb/dump/football_tweets.csv')"
   ]
  },
  {
   "cell_type": "code",
   "execution_count": 141,
   "metadata": {
    "scrolled": false
   },
   "outputs": [
    {
     "name": "stderr",
     "output_type": "stream",
     "text": [
      "\r",
      "[Stage 80:=============================>                            (1 + 1) / 2]\r",
      "\r",
      "                                                                                \r"
     ]
    },
    {
     "data": {
      "text/plain": [
       "11188"
      ]
     },
     "execution_count": 141,
     "metadata": {},
     "output_type": "execute_result"
    }
   ],
   "source": [
    "footy_tw.count()"
   ]
  },
  {
   "cell_type": "code",
   "execution_count": 142,
   "metadata": {},
   "outputs": [
    {
     "name": "stderr",
     "output_type": "stream",
     "text": [
      "\r",
      "[Stage 81:>                                                         (0 + 1) / 1]\r",
      "\r",
      "                                                                                \r"
     ]
    },
    {
     "data": {
      "text/plain": [
       "['{\"_id\":{\"$oid\":\"578ffa8e7eb9513f4f55a935\"},\"user_name\":\"koteras\",\"retweet_count\":0,\"tweet_followers_count\":461,\"source\":\"<a href=\\\\\"http://twitter.com/download/iphone\\\\\" rel=\\\\\"nofollow\\\\\">Twitter for iPhone</a>\",\"coordinates\":null,\"tweet_mentioned_count\":1,\"tweet_ID\":\"755891629932675072\",\"tweet_text\":\"RT @ochocinco: I beat them all for 10 straight hours #FIFA16KING  https://t.co/BFnV6jfkBL\",\"user\":{\"CreatedAt\":{\"$date\":\"2011-12-27T09:04:01Z\"},\"FavouritesCount\":5223,\"FollowersCount\":461,\"FriendsCount\":619,\"UserId\":447818090,\"Location\":\"501\"}}']"
      ]
     },
     "execution_count": 142,
     "metadata": {},
     "output_type": "execute_result"
    }
   ],
   "source": [
    "footy_tw.take(1)"
   ]
  },
  {
   "cell_type": "code",
   "execution_count": 80,
   "metadata": {},
   "outputs": [],
   "source": [
    "# Convert each tweets into a pair of words\n",
    "footy_tw_lines = footy_tw.flatMap(lambda line : line.split(\",\"))"
   ]
  },
  {
   "cell_type": "code",
   "execution_count": 82,
   "metadata": {
    "scrolled": false
   },
   "outputs": [
    {
     "data": {
      "text/plain": [
       "['{\"_id\":{\"$oid\":\"578ffa8e7eb9513f4f55a935\"}',\n",
       " '\"user_name\":\"koteras\"',\n",
       " '\"retweet_count\":0',\n",
       " '\"tweet_followers_count\":461',\n",
       " '\"source\":\"<a href=\\\\\"http://twitter.com/download/iphone\\\\\" rel=\\\\\"nofollow\\\\\">Twitter for iPhone</a>\"',\n",
       " '\"coordinates\":null',\n",
       " '\"tweet_mentioned_count\":1',\n",
       " '\"tweet_ID\":\"755891629932675072\"',\n",
       " '\"tweet_text\":\"RT @ochocinco: I beat them all for 10 straight hours #FIFA16KING  https://t.co/BFnV6jfkBL\"',\n",
       " '\"user\":{\"CreatedAt\":{\"$date\":\"2011-12-27T09:04:01Z\"}']"
      ]
     },
     "execution_count": 82,
     "metadata": {},
     "output_type": "execute_result"
    }
   ],
   "source": [
    "footy_tw_lines.take(10)"
   ]
  },
  {
   "cell_type": "code",
   "execution_count": 162,
   "metadata": {},
   "outputs": [
    {
     "name": "stderr",
     "output_type": "stream",
     "text": [
      "                                                                                \r"
     ]
    },
    {
     "data": {
      "text/plain": [
       "[('rel=\\\\\"nofollow\\\\\">Twitter', 8609),\n",
       " ('beat', 51),\n",
       " ('them', 69),\n",
       " ('10', 114),\n",
       " ('hours', 58),\n",
       " ('#FIFA16KING', 27),\n",
       " ('', 2870),\n",
       " ('https://t.co/BFnV6jfkBL\",\"user\":{\"CreatedAt\":{\"$date\":\"2011-12-27T09:04:01Z\"},\"FavouritesCount\":5223,\"FollowersCount\":461,\"FriendsCount\":619,\"UserId\":447818090,\"Location\":\"501\"}}',\n",
       "  1),\n",
       " ('@Louis_Tomlinson', 3),\n",
       " ('@socceraid', 3),\n",
       " ('when', 3905),\n",
       " ('retired', 3),\n",
       " ('of', 1375),\n",
       " ('knee', 14),\n",
       " ('.', 34)]"
      ]
     },
     "execution_count": 162,
     "metadata": {},
     "output_type": "execute_result"
    }
   ],
   "source": [
    "# Perform WordCount on the cleaned tweet texts. (note: this is several lines.)\n",
    "tweets_words = tweets_lines.flatMap(lambda line: line.split(' '))\n",
    "tweets_tuples = tweets_words.map(lambda word: (word, 1))\n",
    "tweets_counts = tweets_tuples.reduceByKey(lambda a, b: (a + b))\n",
    "tweets_counts.take(15)"
   ]
  },
  {
   "cell_type": "markdown",
   "metadata": {},
   "source": [
    "## Clean the data: some tweets are empty. Remove the empty tweets using filter() "
   ]
  },
  {
   "cell_type": "code",
   "execution_count": 83,
   "metadata": {
    "scrolled": true
   },
   "outputs": [
    {
     "name": "stderr",
     "output_type": "stream",
     "text": [
      "\r",
      "[Stage 42:=============================>                            (1 + 1) / 2]\r",
      "\r",
      "                                                                                \r"
     ]
    },
    {
     "data": {
      "text/plain": [
       "[\"'a'\", 'b', '  ', 'c', 'd']"
      ]
     },
     "execution_count": 83,
     "metadata": {},
     "output_type": "execute_result"
    }
   ],
   "source": [
    "example1 = sc.parallelize([\"'a'\", 'b', \"  \",'c', 'd', \"\"])\n",
    "example1.filter(lambda x: len(x) != 0).collect()"
   ]
  },
  {
   "cell_type": "code",
   "execution_count": 85,
   "metadata": {},
   "outputs": [
    {
     "data": {
      "text/plain": [
       "[\"'a'\"]"
      ]
     },
     "execution_count": 85,
     "metadata": {},
     "output_type": "execute_result"
    }
   ],
   "source": [
    "example1.filter(lambda x: x == \"'a'\").collect()"
   ]
  },
  {
   "cell_type": "code",
   "execution_count": 79,
   "metadata": {
    "scrolled": true
   },
   "outputs": [
    {
     "name": "stderr",
     "output_type": "stream",
     "text": [
      "\r",
      "[Stage 39:>                                                         (0 + 2) / 2]\r",
      "\r",
      "                                                                                \r"
     ]
    },
    {
     "data": {
      "text/plain": [
       "['a', 'b', 'c', 'd']"
      ]
     },
     "execution_count": 79,
     "metadata": {},
     "output_type": "execute_result"
    }
   ],
   "source": [
    "example2 = sc.parallelize(['a', 'b', 'c', 'd', \"\"])\n",
    "example2.filter(lambda x: len(x) != 0).collect()"
   ]
  },
  {
   "cell_type": "code",
   "execution_count": 38,
   "metadata": {
    "scrolled": true
   },
   "outputs": [
    {
     "name": "stdout",
     "output_type": "stream",
     "text": [
      "Help on method filter in module pyspark.rdd:\n",
      "\n",
      "filter(f: Callable[[~T], bool]) -> 'RDD[T]' method of pyspark.rdd.RDD instance\n",
      "    Return a new RDD containing only the elements that satisfy a predicate.\n",
      "    \n",
      "    Examples\n",
      "    --------\n",
      "    >>> rdd = sc.parallelize([1, 2, 3, 4, 5])\n",
      "    >>> rdd.filter(lambda x: x % 2 == 0).collect()\n",
      "    [2, 4]\n",
      "\n"
     ]
    }
   ],
   "source": [
    "help(footy_tw.filter)"
   ]
  },
  {
   "cell_type": "code",
   "execution_count": 93,
   "metadata": {
    "scrolled": false
   },
   "outputs": [
    {
     "name": "stderr",
     "output_type": "stream",
     "text": [
      "                                                                                \r"
     ]
    },
    {
     "data": {
      "text/plain": [
       "[]"
      ]
     },
     "execution_count": 93,
     "metadata": {},
     "output_type": "execute_result"
    }
   ],
   "source": [
    "# Clean the data: some tweets are empty. Remove the empty tweets using filter() \n",
    "footy_tw_lines.filter(lambda x: '\"tweet_text\":null'  in x ).collect()"
   ]
  },
  {
   "cell_type": "code",
   "execution_count": 86,
   "metadata": {},
   "outputs": [
    {
     "data": {
      "text/plain": [
       "True"
      ]
     },
     "execution_count": 86,
     "metadata": {},
     "output_type": "execute_result"
    }
   ],
   "source": [
    "'a' in 'apple'"
   ]
  },
  {
   "cell_type": "code",
   "execution_count": 145,
   "metadata": {},
   "outputs": [
    {
     "name": "stderr",
     "output_type": "stream",
     "text": [
      "                                                                                \r"
     ]
    },
    {
     "data": {
      "text/plain": [
       "56033"
      ]
     },
     "execution_count": 145,
     "metadata": {},
     "output_type": "execute_result"
    }
   ],
   "source": [
    "# Perform WordCount on the cleaned tweet texts. (note: this is several lines.)\n",
    "tweets_counts.count()"
   ]
  },
  {
   "cell_type": "code",
   "execution_count": 163,
   "metadata": {},
   "outputs": [
    {
     "name": "stdout",
     "output_type": "stream",
     "text": [
      "root\n",
      " |-- word: string (nullable = true)\n",
      " |-- count: long (nullable = true)\n",
      "\n"
     ]
    },
    {
     "data": {
      "text/plain": [
       "[Row(word='rel=\\\\\"nofollow\\\\\">Twitter', count=8609),\n",
       " Row(word='beat', count=51),\n",
       " Row(word='them', count=69),\n",
       " Row(word='10', count=114),\n",
       " Row(word='hours', count=58)]"
      ]
     },
     "execution_count": 163,
     "metadata": {},
     "output_type": "execute_result"
    }
   ],
   "source": [
    "# Create the DataFrame of tweet word counts\n",
    "tweet_df = sqlContext.createDataFrame(tweets_counts, ['word', 'count'])\n",
    "tweet_df.printSchema()\n",
    "tweet_df.take(5)"
   ]
  },
  {
   "cell_type": "code",
   "execution_count": 148,
   "metadata": {},
   "outputs": [
    {
     "name": "stderr",
     "output_type": "stream",
     "text": [
      "                                                                                \r"
     ]
    },
    {
     "data": {
      "text/plain": [
       "[Row(word='Chad', count=10, country='Chad', code='CHA'),\n",
       " Row(word='Iraq', count=6, country='Iraq', code='IRQ'),\n",
       " Row(word='Germany', count=14, country='Germany', code='GER'),\n",
       " Row(word='Jordan', count=6, country='Jordan', code='JOR'),\n",
       " Row(word='France', count=39, country='France', code='FRA')]"
      ]
     },
     "execution_count": 148,
     "metadata": {},
     "output_type": "execute_result"
    }
   ],
   "source": [
    "# Join the country and tweet data frames (on the appropriate column)\n",
    "join_df = tweet_df.join(countryDF, tweet_df.word == countryDF.country)\n",
    "join_df.take(5)"
   ]
  },
  {
   "cell_type": "code",
   "execution_count": 151,
   "metadata": {},
   "outputs": [
    {
     "name": "stderr",
     "output_type": "stream",
     "text": [
      "                                                                                \r"
     ]
    },
    {
     "name": "stdout",
     "output_type": "stream",
     "text": [
      "+---------+-----+---------+----+\n",
      "|     word|count|  country|code|\n",
      "+---------+-----+---------+----+\n",
      "|     Chad|   10|     Chad| CHA|\n",
      "|     Iraq|    6|     Iraq| IRQ|\n",
      "|  Germany|   14|  Germany| GER|\n",
      "|   Jordan|    6|   Jordan| JOR|\n",
      "|   France|   39|   France| FRA|\n",
      "|   Greece|    1|   Greece| GRE|\n",
      "|Argentina|    1|Argentina| ARG|\n",
      "|  Albania|    1|  Albania| ALB|\n",
      "|    Ghana|    4|    Ghana| GHA|\n",
      "|    India|    6|    India| IND|\n",
      "|    Chile|    1|    Chile| CHI|\n",
      "|    Italy|    1|    Italy| ITA|\n",
      "|  Denmark|    1|  Denmark| DEN|\n",
      "|     Iran|    1|     Iran| IRN|\n",
      "|  Iceland|    2|  Iceland| ISL|\n",
      "|   Israel|    2|   Israel| ISR|\n",
      "|  Georgia|    4|  Georgia| GEO|\n",
      "|  Jamaica|    2|  Jamaica| JAM|\n",
      "|   Guinea|    8|   Guinea| GUI|\n",
      "|   Canada|   12|   Canada| CAN|\n",
      "+---------+-----+---------+----+\n",
      "only showing top 20 rows\n",
      "\n"
     ]
    }
   ],
   "source": [
    "join_df.show()"
   ]
  },
  {
   "cell_type": "code",
   "execution_count": 149,
   "metadata": {
    "scrolled": true
   },
   "outputs": [
    {
     "name": "stderr",
     "output_type": "stream",
     "text": [
      "                                                                                \r"
     ]
    },
    {
     "data": {
      "text/plain": [
       "49"
      ]
     },
     "execution_count": 149,
     "metadata": {},
     "output_type": "execute_result"
    }
   ],
   "source": [
    "# Question 1: number of distinct countries mentioned\n",
    "join_df.count()"
   ]
  },
  {
   "cell_type": "code",
   "execution_count": 150,
   "metadata": {},
   "outputs": [
    {
     "name": "stderr",
     "output_type": "stream",
     "text": [
      "                                                                                \r"
     ]
    },
    {
     "name": "stdout",
     "output_type": "stream",
     "text": [
      "+----------+\n",
      "|sum(count)|\n",
      "+----------+\n",
      "|       384|\n",
      "+----------+\n",
      "\n"
     ]
    }
   ],
   "source": [
    "# Question 2: number of countries mentioned in tweets.\n",
    "from pyspark.sql.functions import sum\n",
    "join_df.select(sum('count')).show()"
   ]
  },
  {
   "cell_type": "code",
   "execution_count": 152,
   "metadata": {},
   "outputs": [
    {
     "name": "stderr",
     "output_type": "stream",
     "text": [
      "                                                                                \r"
     ]
    },
    {
     "name": "stdout",
     "output_type": "stream",
     "text": [
      "+-------+-----+-------+----+\n",
      "|   word|count|country|code|\n",
      "+-------+-----+-------+----+\n",
      "|Nigeria|   54|Nigeria| NGA|\n",
      "| France|   39| France| FRA|\n",
      "|England|   31|England| ENG|\n",
      "+-------+-----+-------+----+\n",
      "only showing top 3 rows\n",
      "\n"
     ]
    }
   ],
   "source": [
    "# Table 1: top three countries and their counts.\n",
    "from pyspark.sql.functions import desc\n",
    "join_df.sort(desc('count')).show(3)"
   ]
  },
  {
   "cell_type": "code",
   "execution_count": 164,
   "metadata": {},
   "outputs": [
    {
     "name": "stderr",
     "output_type": "stream",
     "text": [
      "                                                                                \r"
     ]
    },
    {
     "name": "stdout",
     "output_type": "stream",
     "text": [
      "+-----+-----+-------+----+\n",
      "| word|count|country|code|\n",
      "+-----+-----+-------+----+\n",
      "|Wales|   20|  Wales| WAL|\n",
      "+-----+-----+-------+----+\n",
      "\n"
     ]
    },
    {
     "name": "stderr",
     "output_type": "stream",
     "text": [
      "                                                                                \r"
     ]
    },
    {
     "name": "stdout",
     "output_type": "stream",
     "text": [
      "+-------+-----+-------+----+\n",
      "|   word|count|country|code|\n",
      "+-------+-----+-------+----+\n",
      "|Iceland|    2|Iceland| ISL|\n",
      "+-------+-----+-------+----+\n",
      "\n"
     ]
    },
    {
     "name": "stderr",
     "output_type": "stream",
     "text": [
      "                                                                                \r"
     ]
    },
    {
     "name": "stdout",
     "output_type": "stream",
     "text": [
      "+-----+-----+-------+----+\n",
      "| word|count|country|code|\n",
      "+-----+-----+-------+----+\n",
      "|Japan|    5|  Japan| JPN|\n",
      "+-----+-----+-------+----+\n",
      "\n"
     ]
    },
    {
     "name": "stderr",
     "output_type": "stream",
     "text": [
      "                                                                                \r"
     ]
    },
    {
     "name": "stdout",
     "output_type": "stream",
     "text": [
      "+-----+-----+-------+----+\n",
      "| word|count|country|code|\n",
      "+-----+-----+-------+----+\n",
      "|Kenya|    3|  Kenya| KEN|\n",
      "+-----+-----+-------+----+\n",
      "\n"
     ]
    },
    {
     "name": "stderr",
     "output_type": "stream",
     "text": [
      "[Stage 205:============================>                            (1 + 1) / 2]\r"
     ]
    },
    {
     "name": "stdout",
     "output_type": "stream",
     "text": [
      "+-----------+-----+-----------+----+\n",
      "|       word|count|    country|code|\n",
      "+-----------+-----+-----------+----+\n",
      "|Netherlands|   13|Netherlands| NED|\n",
      "+-----------+-----+-----------+----+\n",
      "\n"
     ]
    },
    {
     "name": "stderr",
     "output_type": "stream",
     "text": [
      "\r",
      "                                                                                \r"
     ]
    }
   ],
   "source": [
    "# Table 2: counts for Wales, Iceland, and Japan.\n",
    "join_df[join_df.country == 'Wales'].show()\n",
    "join_df[join_df.country == 'Iceland'].show()\n",
    "join_df[join_df.country == 'Japan'].show()\n",
    "join_df[join_df.country == 'Kenya'].show()\n",
    "join_df[join_df.country == 'Netherlands'].show()"
   ]
  },
  {
   "cell_type": "code",
   "execution_count": 165,
   "metadata": {},
   "outputs": [
    {
     "name": "stderr",
     "output_type": "stream",
     "text": [
      "                                                                                \r"
     ]
    },
    {
     "name": "stdout",
     "output_type": "stream",
     "text": [
      "+-----------------+\n",
      "|       avg(count)|\n",
      "+-----------------+\n",
      "|7.836734693877551|\n",
      "+-----------------+\n",
      "\n"
     ]
    }
   ],
   "source": [
    "# Question 6: average number of times a country is mentioned in tweets.\n",
    "from pyspark.sql.functions import mean\n",
    "join_df.select(mean('count')).show()"
   ]
  },
  {
   "cell_type": "code",
   "execution_count": null,
   "metadata": {},
   "outputs": [],
   "source": []
  }
 ],
 "metadata": {
  "kernelspec": {
   "display_name": "Python 3 (ipykernel)",
   "language": "python",
   "name": "python3"
  },
  "language_info": {
   "codemirror_mode": {
    "name": "ipython",
    "version": 3
   },
   "file_extension": ".py",
   "mimetype": "text/x-python",
   "name": "python",
   "nbconvert_exporter": "python",
   "pygments_lexer": "ipython3",
   "version": "3.10.9"
  }
 },
 "nbformat": 4,
 "nbformat_minor": 1
}
